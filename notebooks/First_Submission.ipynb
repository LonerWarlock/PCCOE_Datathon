{
  "cells": [
    {
      "cell_type": "code",
      "execution_count": 1,
      "metadata": {
        "id": "ZgV9ju1lIqRA"
      },
      "outputs": [],
      "source": [
        "import pandas as pd\n",
        "import numpy as np\n",
        "import seaborn as sns\n",
        "import matplotlib.pyplot as plt\n",
        "from sklearn.model_selection import train_test_split, RandomizedSearchCV\n",
        "from sklearn.ensemble import RandomForestClassifier\n",
        "from sklearn.preprocessing import LabelEncoder, StandardScaler\n",
        "from sklearn.metrics import accuracy_score, f1_score"
      ]
    },
    {
      "cell_type": "code",
      "execution_count": null,
      "metadata": {
        "colab": {
          "base_uri": "https://localhost:8080/"
        },
        "id": "MU0YwIDBI3tG",
        "outputId": "228c158d-651c-441f-8ae3-b87090a253be"
      },
      "outputs": [
        {
          "name": "stderr",
          "output_type": "stream",
          "text": [
            "<ipython-input-3-99f69da54473>:2: DtypeWarning: Columns (28) have mixed types. Specify dtype option on import or set low_memory=False.\n",
            "  train_df = pd.read_csv(path)\n"
          ]
        }
      ],
      "source": [
        "train_df = pd.read_csv('train.csv')                 #Add this block while submission\n",
        "test_df = pd.read_csv('test.csv')"
      ]
    },
    {
      "cell_type": "code",
      "execution_count": 4,
      "metadata": {
        "colab": {
          "base_uri": "https://localhost:8080/",
          "height": 533
        },
        "id": "6iS5rWcgI5cN",
        "outputId": "b447502e-d5da-4140-9d6e-15fdb32f4923"
      },
      "outputs": [
        {
          "name": "stdout",
          "output_type": "stream",
          "text": [
            "Train Shape: (446075, 83)\n",
            "Test Shape: (89215, 82)\n",
            "Missing Values:\n",
            " CheatingDetectionMode    445976\n",
            "CPUPerformanceClass      444231\n",
            "GameClientID             424298\n",
            "InternalTestingFlag      370454\n",
            "BatteryType              316802\n",
            "EarlyAccessProgram       283264\n",
            "WIMBootFlag              282898\n",
            "FraudDetectionStatus     158878\n",
            "ISP_ID                   137488\n",
            "SecureModeEnabled         26689\n",
            "dtype: int64\n",
            "\n",
            "Sample Data:\n"
          ]
        },
        {
          "data": {
            "application/vnd.google.colaboratory.intrinsic+json": {
              "type": "dataframe"
            },
            "text/html": [
              "\n",
              "  <div id=\"df-d59ab0c7-7b7c-484c-b6ae-7e85fcc582a0\" class=\"colab-df-container\">\n",
              "    <div>\n",
              "<style scoped>\n",
              "    .dataframe tbody tr th:only-of-type {\n",
              "        vertical-align: middle;\n",
              "    }\n",
              "\n",
              "    .dataframe tbody tr th {\n",
              "        vertical-align: top;\n",
              "    }\n",
              "\n",
              "    .dataframe thead th {\n",
              "        text-align: right;\n",
              "    }\n",
              "</style>\n",
              "<table border=\"1\" class=\"dataframe\">\n",
              "  <thead>\n",
              "    <tr style=\"text-align: right;\">\n",
              "      <th></th>\n",
              "      <th>PlayerID</th>\n",
              "      <th>GameName</th>\n",
              "      <th>GameVersion</th>\n",
              "      <th>AntiCheatVersion</th>\n",
              "      <th>SecuritySignatureVersion</th>\n",
              "      <th>BetaTesterFlag</th>\n",
              "      <th>RealTimeProtectionStatus</th>\n",
              "      <th>PassiveModeFlag</th>\n",
              "      <th>GameClientID</th>\n",
              "      <th>AntiCheatStatus</th>\n",
              "      <th>...</th>\n",
              "      <th>FirmwareVersionID</th>\n",
              "      <th>SecureBootEnabled</th>\n",
              "      <th>WIMBootFlag</th>\n",
              "      <th>VirtualMachineFlag</th>\n",
              "      <th>TouchScreenFlag</th>\n",
              "      <th>StylusSupportFlag</th>\n",
              "      <th>AlwaysOnFlag</th>\n",
              "      <th>GamerFlag</th>\n",
              "      <th>PlayerRegionID</th>\n",
              "      <th>CheatingFlag</th>\n",
              "    </tr>\n",
              "  </thead>\n",
              "  <tbody>\n",
              "    <tr>\n",
              "      <th>0</th>\n",
              "      <td>ec1e79058196315dbc901dafa0fa3c55</td>\n",
              "      <td>warzone</td>\n",
              "      <td>1.1.15100.1</td>\n",
              "      <td>4.18.1807.18075</td>\n",
              "      <td>1.273.1826.0</td>\n",
              "      <td>0</td>\n",
              "      <td>7.0</td>\n",
              "      <td>0</td>\n",
              "      <td>NaN</td>\n",
              "      <td>53447.0</td>\n",
              "      <td>...</td>\n",
              "      <td>48686.0</td>\n",
              "      <td>1</td>\n",
              "      <td>NaN</td>\n",
              "      <td>0.0</td>\n",
              "      <td>0</td>\n",
              "      <td>0</td>\n",
              "      <td>0.0</td>\n",
              "      <td>1.0</td>\n",
              "      <td>11.0</td>\n",
              "      <td>0</td>\n",
              "    </tr>\n",
              "    <tr>\n",
              "      <th>1</th>\n",
              "      <td>5f74bc962b8d730e67ad94007d10d1e4</td>\n",
              "      <td>warzone</td>\n",
              "      <td>1.1.15100.1</td>\n",
              "      <td>4.9.10586.1106</td>\n",
              "      <td>1.273.461.0</td>\n",
              "      <td>0</td>\n",
              "      <td>7.0</td>\n",
              "      <td>0</td>\n",
              "      <td>NaN</td>\n",
              "      <td>6630.0</td>\n",
              "      <td>...</td>\n",
              "      <td>60549.0</td>\n",
              "      <td>1</td>\n",
              "      <td>0.0</td>\n",
              "      <td>0.0</td>\n",
              "      <td>0</td>\n",
              "      <td>0</td>\n",
              "      <td>1.0</td>\n",
              "      <td>0.0</td>\n",
              "      <td>12.0</td>\n",
              "      <td>0</td>\n",
              "    </tr>\n",
              "    <tr>\n",
              "      <th>2</th>\n",
              "      <td>146ffbf61a5580cbd64b7eec1839d450</td>\n",
              "      <td>warzone</td>\n",
              "      <td>1.1.15100.1</td>\n",
              "      <td>4.18.1806.18062</td>\n",
              "      <td>1.273.488.0</td>\n",
              "      <td>0</td>\n",
              "      <td>7.0</td>\n",
              "      <td>0</td>\n",
              "      <td>NaN</td>\n",
              "      <td>53447.0</td>\n",
              "      <td>...</td>\n",
              "      <td>45534.0</td>\n",
              "      <td>0</td>\n",
              "      <td>NaN</td>\n",
              "      <td>0.0</td>\n",
              "      <td>0</td>\n",
              "      <td>0</td>\n",
              "      <td>0.0</td>\n",
              "      <td>1.0</td>\n",
              "      <td>12.0</td>\n",
              "      <td>1</td>\n",
              "    </tr>\n",
              "    <tr>\n",
              "      <th>3</th>\n",
              "      <td>ddba4acd363398e8cd5dc2a42aa2c213</td>\n",
              "      <td>warzone</td>\n",
              "      <td>1.1.15200.1</td>\n",
              "      <td>4.8.10240.17443</td>\n",
              "      <td>1.275.590.0</td>\n",
              "      <td>0</td>\n",
              "      <td>7.0</td>\n",
              "      <td>0</td>\n",
              "      <td>NaN</td>\n",
              "      <td>53447.0</td>\n",
              "      <td>...</td>\n",
              "      <td>64709.0</td>\n",
              "      <td>0</td>\n",
              "      <td>0.0</td>\n",
              "      <td>0.0</td>\n",
              "      <td>0</td>\n",
              "      <td>0</td>\n",
              "      <td>0.0</td>\n",
              "      <td>1.0</td>\n",
              "      <td>11.0</td>\n",
              "      <td>0</td>\n",
              "    </tr>\n",
              "    <tr>\n",
              "      <th>4</th>\n",
              "      <td>8b485185720c29502e2ec51ed7b9280e</td>\n",
              "      <td>warzone</td>\n",
              "      <td>1.1.15100.1</td>\n",
              "      <td>4.18.1807.18075</td>\n",
              "      <td>1.273.1253.0</td>\n",
              "      <td>0</td>\n",
              "      <td>7.0</td>\n",
              "      <td>0</td>\n",
              "      <td>NaN</td>\n",
              "      <td>47238.0</td>\n",
              "      <td>...</td>\n",
              "      <td>33118.0</td>\n",
              "      <td>1</td>\n",
              "      <td>0.0</td>\n",
              "      <td>0.0</td>\n",
              "      <td>0</td>\n",
              "      <td>0</td>\n",
              "      <td>0.0</td>\n",
              "      <td>0.0</td>\n",
              "      <td>2.0</td>\n",
              "      <td>0</td>\n",
              "    </tr>\n",
              "  </tbody>\n",
              "</table>\n",
              "<p>5 rows × 83 columns</p>\n",
              "</div>\n",
              "    <div class=\"colab-df-buttons\">\n",
              "\n",
              "  <div class=\"colab-df-container\">\n",
              "    <button class=\"colab-df-convert\" onclick=\"convertToInteractive('df-d59ab0c7-7b7c-484c-b6ae-7e85fcc582a0')\"\n",
              "            title=\"Convert this dataframe to an interactive table.\"\n",
              "            style=\"display:none;\">\n",
              "\n",
              "  <svg xmlns=\"http://www.w3.org/2000/svg\" height=\"24px\" viewBox=\"0 -960 960 960\">\n",
              "    <path d=\"M120-120v-720h720v720H120Zm60-500h600v-160H180v160Zm220 220h160v-160H400v160Zm0 220h160v-160H400v160ZM180-400h160v-160H180v160Zm440 0h160v-160H620v160ZM180-180h160v-160H180v160Zm440 0h160v-160H620v160Z\"/>\n",
              "  </svg>\n",
              "    </button>\n",
              "\n",
              "  <style>\n",
              "    .colab-df-container {\n",
              "      display:flex;\n",
              "      gap: 12px;\n",
              "    }\n",
              "\n",
              "    .colab-df-convert {\n",
              "      background-color: #E8F0FE;\n",
              "      border: none;\n",
              "      border-radius: 50%;\n",
              "      cursor: pointer;\n",
              "      display: none;\n",
              "      fill: #1967D2;\n",
              "      height: 32px;\n",
              "      padding: 0 0 0 0;\n",
              "      width: 32px;\n",
              "    }\n",
              "\n",
              "    .colab-df-convert:hover {\n",
              "      background-color: #E2EBFA;\n",
              "      box-shadow: 0px 1px 2px rgba(60, 64, 67, 0.3), 0px 1px 3px 1px rgba(60, 64, 67, 0.15);\n",
              "      fill: #174EA6;\n",
              "    }\n",
              "\n",
              "    .colab-df-buttons div {\n",
              "      margin-bottom: 4px;\n",
              "    }\n",
              "\n",
              "    [theme=dark] .colab-df-convert {\n",
              "      background-color: #3B4455;\n",
              "      fill: #D2E3FC;\n",
              "    }\n",
              "\n",
              "    [theme=dark] .colab-df-convert:hover {\n",
              "      background-color: #434B5C;\n",
              "      box-shadow: 0px 1px 3px 1px rgba(0, 0, 0, 0.15);\n",
              "      filter: drop-shadow(0px 1px 2px rgba(0, 0, 0, 0.3));\n",
              "      fill: #FFFFFF;\n",
              "    }\n",
              "  </style>\n",
              "\n",
              "    <script>\n",
              "      const buttonEl =\n",
              "        document.querySelector('#df-d59ab0c7-7b7c-484c-b6ae-7e85fcc582a0 button.colab-df-convert');\n",
              "      buttonEl.style.display =\n",
              "        google.colab.kernel.accessAllowed ? 'block' : 'none';\n",
              "\n",
              "      async function convertToInteractive(key) {\n",
              "        const element = document.querySelector('#df-d59ab0c7-7b7c-484c-b6ae-7e85fcc582a0');\n",
              "        const dataTable =\n",
              "          await google.colab.kernel.invokeFunction('convertToInteractive',\n",
              "                                                    [key], {});\n",
              "        if (!dataTable) return;\n",
              "\n",
              "        const docLinkHtml = 'Like what you see? Visit the ' +\n",
              "          '<a target=\"_blank\" href=https://colab.research.google.com/notebooks/data_table.ipynb>data table notebook</a>'\n",
              "          + ' to learn more about interactive tables.';\n",
              "        element.innerHTML = '';\n",
              "        dataTable['output_type'] = 'display_data';\n",
              "        await google.colab.output.renderOutput(dataTable, element);\n",
              "        const docLink = document.createElement('div');\n",
              "        docLink.innerHTML = docLinkHtml;\n",
              "        element.appendChild(docLink);\n",
              "      }\n",
              "    </script>\n",
              "  </div>\n",
              "\n",
              "\n",
              "<div id=\"df-d70d8768-dff2-4ed9-b1b9-696e36296d87\">\n",
              "  <button class=\"colab-df-quickchart\" onclick=\"quickchart('df-d70d8768-dff2-4ed9-b1b9-696e36296d87')\"\n",
              "            title=\"Suggest charts\"\n",
              "            style=\"display:none;\">\n",
              "\n",
              "<svg xmlns=\"http://www.w3.org/2000/svg\" height=\"24px\"viewBox=\"0 0 24 24\"\n",
              "     width=\"24px\">\n",
              "    <g>\n",
              "        <path d=\"M19 3H5c-1.1 0-2 .9-2 2v14c0 1.1.9 2 2 2h14c1.1 0 2-.9 2-2V5c0-1.1-.9-2-2-2zM9 17H7v-7h2v7zm4 0h-2V7h2v10zm4 0h-2v-4h2v4z\"/>\n",
              "    </g>\n",
              "</svg>\n",
              "  </button>\n",
              "\n",
              "<style>\n",
              "  .colab-df-quickchart {\n",
              "      --bg-color: #E8F0FE;\n",
              "      --fill-color: #1967D2;\n",
              "      --hover-bg-color: #E2EBFA;\n",
              "      --hover-fill-color: #174EA6;\n",
              "      --disabled-fill-color: #AAA;\n",
              "      --disabled-bg-color: #DDD;\n",
              "  }\n",
              "\n",
              "  [theme=dark] .colab-df-quickchart {\n",
              "      --bg-color: #3B4455;\n",
              "      --fill-color: #D2E3FC;\n",
              "      --hover-bg-color: #434B5C;\n",
              "      --hover-fill-color: #FFFFFF;\n",
              "      --disabled-bg-color: #3B4455;\n",
              "      --disabled-fill-color: #666;\n",
              "  }\n",
              "\n",
              "  .colab-df-quickchart {\n",
              "    background-color: var(--bg-color);\n",
              "    border: none;\n",
              "    border-radius: 50%;\n",
              "    cursor: pointer;\n",
              "    display: none;\n",
              "    fill: var(--fill-color);\n",
              "    height: 32px;\n",
              "    padding: 0;\n",
              "    width: 32px;\n",
              "  }\n",
              "\n",
              "  .colab-df-quickchart:hover {\n",
              "    background-color: var(--hover-bg-color);\n",
              "    box-shadow: 0 1px 2px rgba(60, 64, 67, 0.3), 0 1px 3px 1px rgba(60, 64, 67, 0.15);\n",
              "    fill: var(--button-hover-fill-color);\n",
              "  }\n",
              "\n",
              "  .colab-df-quickchart-complete:disabled,\n",
              "  .colab-df-quickchart-complete:disabled:hover {\n",
              "    background-color: var(--disabled-bg-color);\n",
              "    fill: var(--disabled-fill-color);\n",
              "    box-shadow: none;\n",
              "  }\n",
              "\n",
              "  .colab-df-spinner {\n",
              "    border: 2px solid var(--fill-color);\n",
              "    border-color: transparent;\n",
              "    border-bottom-color: var(--fill-color);\n",
              "    animation:\n",
              "      spin 1s steps(1) infinite;\n",
              "  }\n",
              "\n",
              "  @keyframes spin {\n",
              "    0% {\n",
              "      border-color: transparent;\n",
              "      border-bottom-color: var(--fill-color);\n",
              "      border-left-color: var(--fill-color);\n",
              "    }\n",
              "    20% {\n",
              "      border-color: transparent;\n",
              "      border-left-color: var(--fill-color);\n",
              "      border-top-color: var(--fill-color);\n",
              "    }\n",
              "    30% {\n",
              "      border-color: transparent;\n",
              "      border-left-color: var(--fill-color);\n",
              "      border-top-color: var(--fill-color);\n",
              "      border-right-color: var(--fill-color);\n",
              "    }\n",
              "    40% {\n",
              "      border-color: transparent;\n",
              "      border-right-color: var(--fill-color);\n",
              "      border-top-color: var(--fill-color);\n",
              "    }\n",
              "    60% {\n",
              "      border-color: transparent;\n",
              "      border-right-color: var(--fill-color);\n",
              "    }\n",
              "    80% {\n",
              "      border-color: transparent;\n",
              "      border-right-color: var(--fill-color);\n",
              "      border-bottom-color: var(--fill-color);\n",
              "    }\n",
              "    90% {\n",
              "      border-color: transparent;\n",
              "      border-bottom-color: var(--fill-color);\n",
              "    }\n",
              "  }\n",
              "</style>\n",
              "\n",
              "  <script>\n",
              "    async function quickchart(key) {\n",
              "      const quickchartButtonEl =\n",
              "        document.querySelector('#' + key + ' button');\n",
              "      quickchartButtonEl.disabled = true;  // To prevent multiple clicks.\n",
              "      quickchartButtonEl.classList.add('colab-df-spinner');\n",
              "      try {\n",
              "        const charts = await google.colab.kernel.invokeFunction(\n",
              "            'suggestCharts', [key], {});\n",
              "      } catch (error) {\n",
              "        console.error('Error during call to suggestCharts:', error);\n",
              "      }\n",
              "      quickchartButtonEl.classList.remove('colab-df-spinner');\n",
              "      quickchartButtonEl.classList.add('colab-df-quickchart-complete');\n",
              "    }\n",
              "    (() => {\n",
              "      let quickchartButtonEl =\n",
              "        document.querySelector('#df-d70d8768-dff2-4ed9-b1b9-696e36296d87 button');\n",
              "      quickchartButtonEl.style.display =\n",
              "        google.colab.kernel.accessAllowed ? 'block' : 'none';\n",
              "    })();\n",
              "  </script>\n",
              "</div>\n",
              "\n",
              "    </div>\n",
              "  </div>\n"
            ],
            "text/plain": [
              "                           PlayerID GameName  GameVersion AntiCheatVersion  \\\n",
              "0  ec1e79058196315dbc901dafa0fa3c55  warzone  1.1.15100.1  4.18.1807.18075   \n",
              "1  5f74bc962b8d730e67ad94007d10d1e4  warzone  1.1.15100.1   4.9.10586.1106   \n",
              "2  146ffbf61a5580cbd64b7eec1839d450  warzone  1.1.15100.1  4.18.1806.18062   \n",
              "3  ddba4acd363398e8cd5dc2a42aa2c213  warzone  1.1.15200.1  4.8.10240.17443   \n",
              "4  8b485185720c29502e2ec51ed7b9280e  warzone  1.1.15100.1  4.18.1807.18075   \n",
              "\n",
              "  SecuritySignatureVersion  BetaTesterFlag  RealTimeProtectionStatus  \\\n",
              "0             1.273.1826.0               0                       7.0   \n",
              "1              1.273.461.0               0                       7.0   \n",
              "2              1.273.488.0               0                       7.0   \n",
              "3              1.275.590.0               0                       7.0   \n",
              "4             1.273.1253.0               0                       7.0   \n",
              "\n",
              "   PassiveModeFlag  GameClientID  AntiCheatStatus  ...  FirmwareVersionID  \\\n",
              "0                0           NaN          53447.0  ...            48686.0   \n",
              "1                0           NaN           6630.0  ...            60549.0   \n",
              "2                0           NaN          53447.0  ...            45534.0   \n",
              "3                0           NaN          53447.0  ...            64709.0   \n",
              "4                0           NaN          47238.0  ...            33118.0   \n",
              "\n",
              "   SecureBootEnabled  WIMBootFlag  VirtualMachineFlag  TouchScreenFlag  \\\n",
              "0                  1          NaN                 0.0                0   \n",
              "1                  1          0.0                 0.0                0   \n",
              "2                  0          NaN                 0.0                0   \n",
              "3                  0          0.0                 0.0                0   \n",
              "4                  1          0.0                 0.0                0   \n",
              "\n",
              "   StylusSupportFlag  AlwaysOnFlag  GamerFlag PlayerRegionID CheatingFlag  \n",
              "0                  0           0.0        1.0           11.0            0  \n",
              "1                  0           1.0        0.0           12.0            0  \n",
              "2                  0           0.0        1.0           12.0            1  \n",
              "3                  0           0.0        1.0           11.0            0  \n",
              "4                  0           0.0        0.0            2.0            0  \n",
              "\n",
              "[5 rows x 83 columns]"
            ]
          },
          "metadata": {},
          "output_type": "display_data"
        }
      ],
      "source": [
        "print(\"Train Shape:\", train_df.shape)\n",
        "print(\"Test Shape:\", test_df.shape)\n",
        "print(\"Missing Values:\\n\", train_df.isnull().sum().sort_values(ascending=False).head(10))\n",
        "print(\"\\nSample Data:\")\n",
        "display(train_df.head())"
      ]
    },
    {
      "cell_type": "code",
      "execution_count": 5,
      "metadata": {
        "id": "yucwe305JHif"
      },
      "outputs": [],
      "source": [
        "train = train_df.copy()\n",
        "test = test_df.copy()"
      ]
    },
    {
      "cell_type": "code",
      "execution_count": 6,
      "metadata": {
        "id": "v94TYLNFJcA6"
      },
      "outputs": [],
      "source": [
        "train_df = train_df.drop('PlayerID', axis=1)\n",
        "test_df = test_df.drop('PlayerID', axis=1)"
      ]
    },
    {
      "cell_type": "code",
      "execution_count": 7,
      "metadata": {
        "id": "6qkB7hhLJdd2"
      },
      "outputs": [],
      "source": [
        "# Handle missing values with median\n",
        "numeric_cols = train_df.select_dtypes(include=['int64', 'float64']).columns\n",
        "for col in numeric_cols:\n",
        "    if col in train_df.columns and col in test_df.columns:\n",
        "        train_median = train_df[col].median()\n",
        "        train_df[col] = train_df[col].fillna(train_median)\n",
        "        test_df[col] = test_df[col].fillna(train_median)"
      ]
    },
    {
      "cell_type": "code",
      "execution_count": null,
      "metadata": {
        "colab": {
          "base_uri": "https://localhost:8080/"
        },
        "id": "YQgqtRYoJgkt",
        "outputId": "b314878a-5077-42e4-c044-0fae166db5ec"
      },
      "outputs": [
        {
          "name": "stdout",
          "output_type": "stream",
          "text": [
            "['GameName', 'GameVersion', 'AntiCheatVersion', 'SecuritySignatureVersion', 'BetaTesterFlag', 'RealTimeProtectionStatus', 'PassiveModeFlag', 'GameClientID', 'AntiCheatStatus', 'SecurityToolsInstalled', 'SecurityToolsEnabled', 'SecureHardwareFlag', 'PlayerCountryID', 'PlayerCityID', 'ISP_ID', 'GeoRegionID', 'LanguageSetting', 'GamingPlatform', 'CPUArchitecture', 'OSVersion', 'OSBuildVersion', 'OSFeatureSet', 'OSReleaseType', 'OSBuildDetails', 'OSEdition', 'AntiCheatProtectionEnabled', 'AutomaticDataSharing', 'CheatingDetectionMode', 'SecureModeEnabled', 'EmbeddedBrowserVersion', 'FraudDetectionStatus', 'FirewallEnabled', 'UserAccessControlLevel', 'DeviceType', 'DeviceFamily', 'DeviceManufacturerID', 'DeviceModelID', 'CPUCoreCount', 'CPUManufacturerID', 'CPUModelID', 'CPUPerformanceClass', 'StorageCapacity', 'StorageType', 'SystemPartitionSize', 'HasDiskDrive', 'RAMSize', 'ChassisType', 'ScreenSize', 'ScreenResolutionWidth', 'ScreenResolutionHeight', 'PowerMode', 'BatteryType', 'BatteryChargeCycles', 'OSVersionDetails', 'OSArchitecture', 'OSDevelopmentBranch', 'OSBuildNum', 'OSBuildRev', 'OSEditionName', 'OSLicenseType', 'OSInstallationType', 'OSInstallLanguage', 'OSUILanguage', 'OSAutoUpdateSettings', 'PortableOSFlag', 'GameLicenseStatus', 'LicenseType', 'InternalTestingFlag', 'BetaTestingDisabled', 'BetaTestingRing', 'EarlyAccessProgram', 'FirmwareManufacturerID', 'FirmwareVersionID', 'SecureBootEnabled', 'WIMBootFlag', 'VirtualMachineFlag', 'TouchScreenFlag', 'StylusSupportFlag', 'AlwaysOnFlag', 'GamerFlag', 'PlayerRegionID', 'CheatingFlag']\n"
          ]
        }
      ],
      "source": [
        "# See all the feature columns\n",
        "print(train_df.columns.tolist())"
      ]
    },
    {
      "cell_type": "code",
      "execution_count": null,
      "metadata": {
        "id": "KLZb267bKg-p"
      },
      "outputs": [],
      "source": [
        "# Encode all categorical variables FIRST before any feature engineering\n",
        "cat_cols = train_df.select_dtypes(include=['object']).columns\n",
        "for col in cat_cols:\n",
        "    if col in test_df.columns:\n",
        "        combined_values = pd.concat([train_df[col], test_df[col]]).unique()\n",
        "        value_to_int = {val: i for i, val in enumerate(combined_values)}\n",
        "\n",
        "        train_df[col] = train_df[col].map(value_to_int)\n",
        "        test_df[col] = test_df[col].map(value_to_int)\n",
        "    else:\n",
        "        print(f\"Warning: Column '{col}' not found in test_df. Skipping.\")"
      ]
    },
    {
      "cell_type": "code",
      "execution_count": null,
      "metadata": {
        "id": "_UyYqGBuKhA0"
      },
      "outputs": [],
      "source": [
        "# Ensure all columns are numeric for feature engineering\n",
        "for col in train_df.columns:\n",
        "    if not pd.api.types.is_numeric_dtype(train_df[col]):\n",
        "        print(f\"Converting non-numeric column {col} to numeric\")\n",
        "        le = LabelEncoder()\n",
        "        train_df[col] = le.fit_transform(train_df[col].astype(str))\n",
        "        if col in test_df.columns:\n",
        "            test_categories = set(test_df[col].unique())\n",
        "            train_categories = set(le.classes_)\n",
        "            unknown = test_categories - train_categories\n",
        "            if unknown:\n",
        "                print(f\"Found unknown categories in test set for {col}\")\n",
        "                for unk in unknown:\n",
        "                    test_df.loc[test_df[col] == unk, col] = le.classes_[0]\n",
        "            test_df[col] = le.transform(test_df[col].astype(str))"
      ]
    },
    {
      "cell_type": "code",
      "execution_count": null,
      "metadata": {
        "id": "emRp8IYDJiP9"
      },
      "outputs": [],
      "source": [
        "# Security features\n",
        "if ('AntiCheatStatus' in train_df.columns and\n",
        "    'SecurityToolsInstalled' in train_df.columns and\n",
        "    'AntiCheatProtectionEnabled' in train_df.columns):\n",
        "    train_df['SecurityScore'] = (                                 # Simple adding performed here\n",
        "        train_df['AntiCheatStatus'] +\n",
        "        train_df['SecurityToolsInstalled'] +\n",
        "        train_df['AntiCheatProtectionEnabled']\n",
        "    )\n",
        "    test_df['SecurityScore'] = (\n",
        "        test_df['AntiCheatStatus'] +\n",
        "        test_df['SecurityToolsInstalled'] +\n",
        "        test_df['AntiCheatProtectionEnabled']\n",
        "    )"
      ]
    },
    {
      "cell_type": "code",
      "execution_count": 15,
      "metadata": {
        "id": "s35lXCr0KCh6"
      },
      "outputs": [],
      "source": [
        "# Safe binary feature creations for suspicious configurations\n",
        "if 'VirtualMachineFlag' in train_df.columns and 'AntiCheatProtectionEnabled' in train_df.columns:\n",
        "    train_df['VM_NoProtection'] = ((train_df['VirtualMachineFlag'] == 1) &\n",
        "                                  (train_df['AntiCheatProtectionEnabled'] == 0)).astype(int)\n",
        "    test_df['VM_NoProtection'] = ((test_df['VirtualMachineFlag'] == 1) &\n",
        "                                 (test_df['AntiCheatProtectionEnabled'] == 0)).astype(int)"
      ]
    },
    {
      "cell_type": "code",
      "execution_count": 16,
      "metadata": {
        "id": "P_M7gGdpKFR9"
      },
      "outputs": [],
      "source": [
        "# Hardware capability indicators\n",
        "if 'CPUCoreCount' in train_df.columns and 'RAMSize' in train_df.columns:\n",
        "    # Simple multiplication of key hardware specs\n",
        "    train_df['HardwarePower'] = train_df['CPUCoreCount'] * train_df['RAMSize']\n",
        "    test_df['HardwarePower'] = test_df['CPUCoreCount'] * test_df['RAMSize']"
      ]
    },
    {
      "cell_type": "code",
      "execution_count": 17,
      "metadata": {
        "id": "acFmhCmvKu51"
      },
      "outputs": [],
      "source": [
        "# OS-related features\n",
        "if 'OSVersion' in train_df.columns and 'OSBuildVersion' in train_df.columns:\n",
        "    # Simple ratio of two OS-related columns\n",
        "    train_df['OSVersionRatio'] = train_df['OSVersion'] / (train_df['OSBuildVersion'] + 1)\n",
        "    test_df['OSVersionRatio'] = test_df['OSVersion'] / (test_df['OSBuildVersion'] + 1)"
      ]
    },
    {
      "cell_type": "code",
      "execution_count": null,
      "metadata": {
        "id": "zn7_woulKwid"
      },
      "outputs": [],
      "source": [
        "# Create gaming platform\n",
        "if 'GamingPlatform' in train_df.columns and 'PlayerRegionID' in train_df.columns:\n",
        "    # Simple interaction of platform and region\n",
        "    train_df['PlatformRegion'] = train_df['GamingPlatform'] * train_df['PlayerRegionID']\n",
        "    test_df['PlatformRegion'] = test_df['GamingPlatform'] * test_df['PlayerRegionID']"
      ]
    },
    {
      "cell_type": "code",
      "execution_count": 19,
      "metadata": {
        "id": "udO4JFZCKyS4"
      },
      "outputs": [],
      "source": [
        "target = 'CheatingFlag'\n",
        "X = train_df.drop(columns=[target])\n",
        "y = train_df[target]\n",
        "X_test = test_df.copy()"
      ]
    },
    {
      "cell_type": "code",
      "execution_count": 20,
      "metadata": {
        "id": "VR5HYH9DK0IU"
      },
      "outputs": [],
      "source": [
        "# Create train-validation split\n",
        "X_train, X_val, y_train, y_val = train_test_split(X, y, test_size=0.2, random_state=42, stratify=y)"
      ]
    },
    {
      "cell_type": "code",
      "execution_count": 21,
      "metadata": {
        "id": "do607AgQK2Ge"
      },
      "outputs": [],
      "source": [
        "# Feature scaling\n",
        "scaler = StandardScaler()\n",
        "X_train = scaler.fit_transform(X_train)\n",
        "X_val = scaler.transform(X_val)\n",
        "X_test = scaler.transform(X_test)"
      ]
    },
    {
      "cell_type": "code",
      "execution_count": null,
      "metadata": {
        "colab": {
          "base_uri": "https://localhost:8080/"
        },
        "id": "-21AjZZfK3oS",
        "outputId": "667e6667-68a0-433e-a6ba-d6a0e176cf2b"
      },
      "outputs": [
        {
          "name": "stdout",
          "output_type": "stream",
          "text": [
            "Training model with optimized parameters for large dataset\n"
          ]
        }
      ],
      "source": [
        "print(\"Training model with optimized parameters for large dataset\")\n",
        "clf = RandomForestClassifier(\n",
        "    n_estimators=100,    \n",
        "    max_depth=10,         \n",
        "    min_samples_split=10,  \n",
        "    min_samples_leaf=4,   \n",
        "    max_features='sqrt',   \n",
        "    class_weight='balanced', \n",
        "    random_state=42,\n",
        "    n_jobs=-1             \n",
        ")"
      ]
    },
    {
      "cell_type": "code",
      "execution_count": null,
      "metadata": {
        "colab": {
          "base_uri": "https://localhost:8080/"
        },
        "id": "6M-aFJYGK5SM",
        "outputId": "c165b72b-f83a-4dab-d713-0b43bce707fc"
      },
      "outputs": [
        {
          "name": "stdout",
          "output_type": "stream",
          "text": [
            "Training on a 100k sample of 356860 rows for better performance\n"
          ]
        }
      ],
      "source": [
        "# Since it is a very large datasets, we use a sample for training\n",
        "if X_train.shape[0] > 100000:  \n",
        "    print(f\"Training on a 100k sample of {X_train.shape[0]} rows for better performance\")\n",
        "    sample_idx = np.random.choice(X_train.shape[0], 100000, replace=False)\n",
        "    X_train_sample = X_train[sample_idx]\n",
        "    y_train_sample = y_train.iloc[sample_idx]\n",
        "    clf.fit(X_train_sample, y_train_sample)\n",
        "else:\n",
        "    clf.fit(X_train, y_train)"
      ]
    },
    {
      "cell_type": "code",
      "execution_count": 24,
      "metadata": {
        "colab": {
          "base_uri": "https://localhost:8080/"
        },
        "id": "ZyWtPOw9K7hs",
        "outputId": "0ce463fe-b34f-41c3-a86f-488e62e10f83"
      },
      "outputs": [
        {
          "name": "stdout",
          "output_type": "stream",
          "text": [
            "Validation Accuracy: 0.6212\n",
            "Validation F1 Score: 0.6498\n"
          ]
        }
      ],
      "source": [
        "# Model evaluation\n",
        "val_preds = clf.predict(X_val)\n",
        "acc = accuracy_score(y_val, val_preds)\n",
        "f1 = f1_score(y_val, val_preds)\n",
        "print(f\"Validation Accuracy: {acc:.4f}\")\n",
        "print(f\"Validation F1 Score: {f1:.4f}\")"
      ]
    },
    {
      "cell_type": "code",
      "execution_count": null,
      "metadata": {
        "colab": {
          "base_uri": "https://localhost:8080/",
          "height": 607
        },
        "id": "MAWNsSOiK9rQ",
        "outputId": "62fad0b9-e71e-4216-89b0-d1c74d5bf066"
      },
      "outputs": [
        {
          "data": {
            "image/png": "[encoded data removed]",
            "text/plain": [
              "<Figure size 1000x600 with 1 Axes>"
            ]
          },
          "metadata": {},
          "output_type": "display_data"
        }
      ],
      "source": [
        "# Feature importance visualization\n",
        "feature_names = X.columns.tolist()\n",
        "feature_importances = pd.Series(clf.feature_importances_, index=feature_names).sort_values(ascending=False)\n",
        "\n",
        "plt.figure(figsize=(10, 6))\n",
        "sns.barplot(x=feature_importances[:20], y=feature_importances.index[:20])\n",
        "plt.title(\"Top 20 Feature Importances for Cheating Detection\")\n",
        "plt.tight_layout()\n",
        "plt.show()"
      ]
    },
    {
      "cell_type": "code",
      "execution_count": 26,
      "metadata": {
        "colab": {
          "base_uri": "https://localhost:8080/"
        },
        "id": "lAo5nnDnK_mQ",
        "outputId": "d2e80b11-3fb8-4f74-81d5-908559ad55a3"
      },
      "outputs": [
        {
          "name": "stdout",
          "output_type": "stream",
          "text": [
            "Submission file saved as submission.csv\n"
          ]
        }
      ],
      "source": [
        "# Generate predictions\n",
        "test_preds = clf.predict(X_test)\n",
        "submission = pd.DataFrame({\"PlayerID\": test[\"PlayerID\"], \"CheatingFlag\": test_preds})\n",
        "submission.to_csv(\"submission.csv\", index=False)\n",
        "print(\"Submission file saved as submission.csv\")"
      ]
    },
    {
      "cell_type": "code",
      "execution_count": null,
      "metadata": {
        "id": "xp4_VuerLBYX"
      },
      "outputs": [],
      "source": []
    }
  ],
  "metadata": {
    "colab": {
      "provenance": []
    },
    "kernelspec": {
      "display_name": "Python 3",
      "name": "python3"
    },
    "language_info": {
      "name": "python"
    }
  },
  "nbformat": 4,
  "nbformat_minor": 0
}
